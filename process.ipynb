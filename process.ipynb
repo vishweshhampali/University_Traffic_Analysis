{
 "cells": [
  {
   "cell_type": "code",
   "execution_count": 9,
   "metadata": {},
   "outputs": [],
   "source": [
    "import csv\n",
    "from datetime import datetime\n",
    "import re\n",
    "\n",
    "\n",
    "new_entries=[]\n",
    "with open('raw_data.csv', newline='') as csvfile:\n",
    "    csv_file = csv.reader(csvfile, delimiter=',')\n",
    "    next(csv_file, None)\n",
    "    for row in csv_file:\n",
    "        #print(row)\n",
    "        date=datetime.strptime(row[0], '%Y-%m-%d')\n",
    "        date=date.strftime('%d-%m-%Y')\n",
    "        row[0]=date\n",
    "        if row[3].strip().lower()=='bus':\n",
    "            row[4]=str(row[4])+'%'\n",
    "        row[1]=row[1].replace(\" \",\"\").lower()+'am'\n",
    "        row[1]=row[1].replace(\":\",\".\")\n",
    "        row[1]=re.sub(r'^0','',row[1])\n",
    "        new_row=[row[0].strip(),row[1].strip(),row[2].lower().strip(),row[3].lower().strip(),row[4].strip(),row[5].lower().strip(),row[6].lower().strip()]\n",
    "        new_entries.append(new_row)\n",
    "\n",
    "\n",
    "headers = ['Date', 'Time', 'Direction', 'Type', 'Occupancy', 'Weather', 'Area_Code'] \n",
    "with open('complete_data.csv', 'w',newline='') as csvfile:\n",
    "    new_csv_file = csv.writer(csvfile, delimiter=',')\n",
    "    new_csv_file.writerow(headers)\n",
    "    for item in new_entries:\n",
    "        new_csv_file.writerow(item)\n",
    "\n"
   ]
  },
  {
   "cell_type": "code",
   "execution_count": null,
   "metadata": {},
   "outputs": [],
   "source": []
  }
 ],
 "metadata": {
  "kernelspec": {
   "display_name": "Python 3 (ipykernel)",
   "language": "python",
   "name": "python3"
  },
  "language_info": {
   "codemirror_mode": {
    "name": "ipython",
    "version": 3
   },
   "file_extension": ".py",
   "mimetype": "text/x-python",
   "name": "python",
   "nbconvert_exporter": "python",
   "pygments_lexer": "ipython3",
   "version": "3.11.5"
  }
 },
 "nbformat": 4,
 "nbformat_minor": 4
}
